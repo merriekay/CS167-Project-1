{
  "nbformat": 4,
  "nbformat_minor": 0,
  "metadata": {
    "colab": {
      "name": "Project1_starter.ipynb",
      "provenance": [],
      "authorship_tag": "ABX9TyOw6ayvQ3opOQFP8+1R1wCh",
      "include_colab_link": true
    },
    "kernelspec": {
      "name": "python3",
      "display_name": "Python 3"
    }
  },
  "cells": [
    {
      "cell_type": "markdown",
      "metadata": {
        "id": "view-in-github",
        "colab_type": "text"
      },
      "source": [
        "<a href=\"https://colab.research.google.com/github/merriekay/CS167-Project-1/blob/main/Project1_starter.ipynb\" target=\"_parent\"><img src=\"https://colab.research.google.com/assets/colab-badge.svg\" alt=\"Open In Colab\"/></a>"
      ]
    },
    {
      "cell_type": "markdown",
      "metadata": {
        "id": "F9AOhxuO9Vt7"
      },
      "source": [
        "# Project \\#1 Starter Code: \n",
        "Your first step is to decide which dataset you would like to work with for this project. You can find the data on Blackboard. \n",
        "\n",
        "The options include: \n",
        "- [Ramen Ratings](https://www.kaggle.com/residentmario/ramen-ratings)\n",
        "- [Chocolate Ratings](https://www.kaggle.com/rtatman/chocolate-bar-ratings)\n",
        "- [World Happiness Data](https://www.kaggle.com/unsdsn/world-happiness)\n",
        "- [Heart Failure Prediction](https://www.kaggle.com/fedesoriano/heart-failure-prediction)\n",
        "\n",
        "Let's start by taking a look at these different datasets. (you can get rid of this once you decide which one you want to use). "
      ]
    },
    {
      "cell_type": "code",
      "metadata": {
        "colab": {
          "base_uri": "https://localhost:8080/",
          "height": 237
        },
        "id": "5N97IBe79Mfp",
        "outputId": "8376102a-9cb0-464d-bf4e-c6dfe69f3b5d"
      },
      "source": [
        "from google.colab import drive\n",
        "import pandas as pd\n",
        "drive.mount('/content/drive')\n",
        "happiness =pd.read_csv('/content/drive/MyDrive/CS167/datasets/happiness_data.csv')\n",
        "happiness.head()"
      ],
      "execution_count": null,
      "outputs": [
        {
          "output_type": "stream",
          "name": "stdout",
          "text": [
            "Mounted at /content/drive\n"
          ]
        },
        {
          "output_type": "execute_result",
          "data": {
            "text/html": [
              "<div>\n",
              "<style scoped>\n",
              "    .dataframe tbody tr th:only-of-type {\n",
              "        vertical-align: middle;\n",
              "    }\n",
              "\n",
              "    .dataframe tbody tr th {\n",
              "        vertical-align: top;\n",
              "    }\n",
              "\n",
              "    .dataframe thead th {\n",
              "        text-align: right;\n",
              "    }\n",
              "</style>\n",
              "<table border=\"1\" class=\"dataframe\">\n",
              "  <thead>\n",
              "    <tr style=\"text-align: right;\">\n",
              "      <th></th>\n",
              "      <th>Overall rank</th>\n",
              "      <th>Year</th>\n",
              "      <th>Country or region</th>\n",
              "      <th>Score</th>\n",
              "      <th>GDP per capita</th>\n",
              "      <th>Social support and Family</th>\n",
              "      <th>Healthy life expectancy</th>\n",
              "      <th>Freedom to make life choices</th>\n",
              "      <th>Generosity</th>\n",
              "      <th>Perceptions of corruption</th>\n",
              "    </tr>\n",
              "  </thead>\n",
              "  <tbody>\n",
              "    <tr>\n",
              "      <th>0</th>\n",
              "      <td>1</td>\n",
              "      <td>2018</td>\n",
              "      <td>Finland</td>\n",
              "      <td>7.632</td>\n",
              "      <td>1.305</td>\n",
              "      <td>1.592</td>\n",
              "      <td>0.874</td>\n",
              "      <td>0.681</td>\n",
              "      <td>0.202</td>\n",
              "      <td>0.393</td>\n",
              "    </tr>\n",
              "    <tr>\n",
              "      <th>1</th>\n",
              "      <td>2</td>\n",
              "      <td>2018</td>\n",
              "      <td>Norway</td>\n",
              "      <td>7.594</td>\n",
              "      <td>1.456</td>\n",
              "      <td>1.582</td>\n",
              "      <td>0.861</td>\n",
              "      <td>0.686</td>\n",
              "      <td>0.286</td>\n",
              "      <td>0.340</td>\n",
              "    </tr>\n",
              "    <tr>\n",
              "      <th>2</th>\n",
              "      <td>3</td>\n",
              "      <td>2018</td>\n",
              "      <td>Denmark</td>\n",
              "      <td>7.555</td>\n",
              "      <td>1.351</td>\n",
              "      <td>1.590</td>\n",
              "      <td>0.868</td>\n",
              "      <td>0.683</td>\n",
              "      <td>0.284</td>\n",
              "      <td>0.408</td>\n",
              "    </tr>\n",
              "    <tr>\n",
              "      <th>3</th>\n",
              "      <td>4</td>\n",
              "      <td>2018</td>\n",
              "      <td>Iceland</td>\n",
              "      <td>7.495</td>\n",
              "      <td>1.343</td>\n",
              "      <td>1.644</td>\n",
              "      <td>0.914</td>\n",
              "      <td>0.677</td>\n",
              "      <td>0.353</td>\n",
              "      <td>0.138</td>\n",
              "    </tr>\n",
              "    <tr>\n",
              "      <th>4</th>\n",
              "      <td>5</td>\n",
              "      <td>2018</td>\n",
              "      <td>Switzerland</td>\n",
              "      <td>7.487</td>\n",
              "      <td>1.420</td>\n",
              "      <td>1.549</td>\n",
              "      <td>0.927</td>\n",
              "      <td>0.660</td>\n",
              "      <td>0.256</td>\n",
              "      <td>0.357</td>\n",
              "    </tr>\n",
              "  </tbody>\n",
              "</table>\n",
              "</div>"
            ],
            "text/plain": [
              "   Overall rank  Year  ... Generosity  Perceptions of corruption\n",
              "0             1  2018  ...      0.202                      0.393\n",
              "1             2  2018  ...      0.286                      0.340\n",
              "2             3  2018  ...      0.284                      0.408\n",
              "3             4  2018  ...      0.353                      0.138\n",
              "4             5  2018  ...      0.256                      0.357\n",
              "\n",
              "[5 rows x 10 columns]"
            ]
          },
          "metadata": {},
          "execution_count": 3
        }
      ]
    },
    {
      "cell_type": "code",
      "metadata": {
        "id": "irnr-ditb-Bu",
        "colab": {
          "base_uri": "https://localhost:8080/",
          "height": 203
        },
        "outputId": "ccad48d2-8d88-43f4-83ef-9408d2fb84b1"
      },
      "source": [
        "heart =pd.read_csv('/content/drive/MyDrive/CS167/datasets/heart.csv')\n",
        "heart.head()"
      ],
      "execution_count": null,
      "outputs": [
        {
          "output_type": "execute_result",
          "data": {
            "text/html": [
              "<div>\n",
              "<style scoped>\n",
              "    .dataframe tbody tr th:only-of-type {\n",
              "        vertical-align: middle;\n",
              "    }\n",
              "\n",
              "    .dataframe tbody tr th {\n",
              "        vertical-align: top;\n",
              "    }\n",
              "\n",
              "    .dataframe thead th {\n",
              "        text-align: right;\n",
              "    }\n",
              "</style>\n",
              "<table border=\"1\" class=\"dataframe\">\n",
              "  <thead>\n",
              "    <tr style=\"text-align: right;\">\n",
              "      <th></th>\n",
              "      <th>Age</th>\n",
              "      <th>Sex</th>\n",
              "      <th>ChestPainType</th>\n",
              "      <th>RestingBP</th>\n",
              "      <th>Cholesterol</th>\n",
              "      <th>FastingBS</th>\n",
              "      <th>RestingECG</th>\n",
              "      <th>MaxHR</th>\n",
              "      <th>ExerciseAngina</th>\n",
              "      <th>Oldpeak</th>\n",
              "      <th>ST_Slope</th>\n",
              "      <th>HeartDisease</th>\n",
              "    </tr>\n",
              "  </thead>\n",
              "  <tbody>\n",
              "    <tr>\n",
              "      <th>0</th>\n",
              "      <td>40</td>\n",
              "      <td>M</td>\n",
              "      <td>ATA</td>\n",
              "      <td>140</td>\n",
              "      <td>289</td>\n",
              "      <td>0</td>\n",
              "      <td>Normal</td>\n",
              "      <td>172</td>\n",
              "      <td>N</td>\n",
              "      <td>0.0</td>\n",
              "      <td>Up</td>\n",
              "      <td>0</td>\n",
              "    </tr>\n",
              "    <tr>\n",
              "      <th>1</th>\n",
              "      <td>49</td>\n",
              "      <td>F</td>\n",
              "      <td>NAP</td>\n",
              "      <td>160</td>\n",
              "      <td>180</td>\n",
              "      <td>0</td>\n",
              "      <td>Normal</td>\n",
              "      <td>156</td>\n",
              "      <td>N</td>\n",
              "      <td>1.0</td>\n",
              "      <td>Flat</td>\n",
              "      <td>1</td>\n",
              "    </tr>\n",
              "    <tr>\n",
              "      <th>2</th>\n",
              "      <td>37</td>\n",
              "      <td>M</td>\n",
              "      <td>ATA</td>\n",
              "      <td>130</td>\n",
              "      <td>283</td>\n",
              "      <td>0</td>\n",
              "      <td>ST</td>\n",
              "      <td>98</td>\n",
              "      <td>N</td>\n",
              "      <td>0.0</td>\n",
              "      <td>Up</td>\n",
              "      <td>0</td>\n",
              "    </tr>\n",
              "    <tr>\n",
              "      <th>3</th>\n",
              "      <td>48</td>\n",
              "      <td>F</td>\n",
              "      <td>ASY</td>\n",
              "      <td>138</td>\n",
              "      <td>214</td>\n",
              "      <td>0</td>\n",
              "      <td>Normal</td>\n",
              "      <td>108</td>\n",
              "      <td>Y</td>\n",
              "      <td>1.5</td>\n",
              "      <td>Flat</td>\n",
              "      <td>1</td>\n",
              "    </tr>\n",
              "    <tr>\n",
              "      <th>4</th>\n",
              "      <td>54</td>\n",
              "      <td>M</td>\n",
              "      <td>NAP</td>\n",
              "      <td>150</td>\n",
              "      <td>195</td>\n",
              "      <td>0</td>\n",
              "      <td>Normal</td>\n",
              "      <td>122</td>\n",
              "      <td>N</td>\n",
              "      <td>0.0</td>\n",
              "      <td>Up</td>\n",
              "      <td>0</td>\n",
              "    </tr>\n",
              "  </tbody>\n",
              "</table>\n",
              "</div>"
            ],
            "text/plain": [
              "   Age Sex ChestPainType  ...  Oldpeak  ST_Slope  HeartDisease\n",
              "0   40   M           ATA  ...      0.0        Up             0\n",
              "1   49   F           NAP  ...      1.0      Flat             1\n",
              "2   37   M           ATA  ...      0.0        Up             0\n",
              "3   48   F           ASY  ...      1.5      Flat             1\n",
              "4   54   M           NAP  ...      0.0        Up             0\n",
              "\n",
              "[5 rows x 12 columns]"
            ]
          },
          "metadata": {},
          "execution_count": 5
        }
      ]
    },
    {
      "cell_type": "code",
      "metadata": {
        "id": "0t6gaXv_dBus",
        "colab": {
          "base_uri": "https://localhost:8080/",
          "height": 203
        },
        "outputId": "cdd55fb2-798c-4680-c77c-c15a29036d76"
      },
      "source": [
        "chocolate =pd.read_csv('/content/drive/MyDrive/CS167/datasets/chocolate.csv')\n",
        "chocolate.head()"
      ],
      "execution_count": null,
      "outputs": [
        {
          "output_type": "execute_result",
          "data": {
            "text/html": [
              "<div>\n",
              "<style scoped>\n",
              "    .dataframe tbody tr th:only-of-type {\n",
              "        vertical-align: middle;\n",
              "    }\n",
              "\n",
              "    .dataframe tbody tr th {\n",
              "        vertical-align: top;\n",
              "    }\n",
              "\n",
              "    .dataframe thead th {\n",
              "        text-align: right;\n",
              "    }\n",
              "</style>\n",
              "<table border=\"1\" class=\"dataframe\">\n",
              "  <thead>\n",
              "    <tr style=\"text-align: right;\">\n",
              "      <th></th>\n",
              "      <th>Company</th>\n",
              "      <th>Specific Bean Origin</th>\n",
              "      <th>REF</th>\n",
              "      <th>Review Date</th>\n",
              "      <th>Cocoa Percent</th>\n",
              "      <th>Company Location</th>\n",
              "      <th>Rating</th>\n",
              "      <th>Bean\\nType</th>\n",
              "      <th>Broad Bean\\nOrigin</th>\n",
              "    </tr>\n",
              "  </thead>\n",
              "  <tbody>\n",
              "    <tr>\n",
              "      <th>0</th>\n",
              "      <td>A. Morin</td>\n",
              "      <td>Agua Grande</td>\n",
              "      <td>1876.0</td>\n",
              "      <td>2016.0</td>\n",
              "      <td>0.63</td>\n",
              "      <td>France</td>\n",
              "      <td>3.75</td>\n",
              "      <td>NaN</td>\n",
              "      <td>Sao Tome</td>\n",
              "    </tr>\n",
              "    <tr>\n",
              "      <th>1</th>\n",
              "      <td>A. Morin</td>\n",
              "      <td>Kpime</td>\n",
              "      <td>1676.0</td>\n",
              "      <td>2015.0</td>\n",
              "      <td>0.70</td>\n",
              "      <td>France</td>\n",
              "      <td>2.75</td>\n",
              "      <td>NaN</td>\n",
              "      <td>Togo</td>\n",
              "    </tr>\n",
              "    <tr>\n",
              "      <th>2</th>\n",
              "      <td>A. Morin</td>\n",
              "      <td>Atsane</td>\n",
              "      <td>1676.0</td>\n",
              "      <td>2015.0</td>\n",
              "      <td>0.70</td>\n",
              "      <td>France</td>\n",
              "      <td>3.00</td>\n",
              "      <td>NaN</td>\n",
              "      <td>Togo</td>\n",
              "    </tr>\n",
              "    <tr>\n",
              "      <th>3</th>\n",
              "      <td>A. Morin</td>\n",
              "      <td>Akata</td>\n",
              "      <td>1680.0</td>\n",
              "      <td>2015.0</td>\n",
              "      <td>0.70</td>\n",
              "      <td>France</td>\n",
              "      <td>3.50</td>\n",
              "      <td>NaN</td>\n",
              "      <td>Togo</td>\n",
              "    </tr>\n",
              "    <tr>\n",
              "      <th>4</th>\n",
              "      <td>A. Morin</td>\n",
              "      <td>Quilla</td>\n",
              "      <td>1704.0</td>\n",
              "      <td>2015.0</td>\n",
              "      <td>0.70</td>\n",
              "      <td>France</td>\n",
              "      <td>3.50</td>\n",
              "      <td>NaN</td>\n",
              "      <td>Peru</td>\n",
              "    </tr>\n",
              "  </tbody>\n",
              "</table>\n",
              "</div>"
            ],
            "text/plain": [
              "    Company Specific Bean Origin     REF  ...  Rating  Bean\\nType Broad Bean\\nOrigin\n",
              "0  A. Morin          Agua Grande  1876.0  ...    3.75         NaN           Sao Tome\n",
              "1  A. Morin                Kpime  1676.0  ...    2.75         NaN               Togo\n",
              "2  A. Morin               Atsane  1676.0  ...    3.00         NaN               Togo\n",
              "3  A. Morin                Akata  1680.0  ...    3.50         NaN               Togo\n",
              "4  A. Morin               Quilla  1704.0  ...    3.50         NaN               Peru\n",
              "\n",
              "[5 rows x 9 columns]"
            ]
          },
          "metadata": {},
          "execution_count": 12
        }
      ]
    },
    {
      "cell_type": "code",
      "metadata": {
        "id": "NjHZqK1rdWiU",
        "colab": {
          "base_uri": "https://localhost:8080/",
          "height": 203
        },
        "outputId": "dd850cfd-a6db-4699-f8ae-86418383e5e0"
      },
      "source": [
        "ramen =pd.read_csv('/content/drive/MyDrive/CS167/datasets/ramen-ratings.csv')\n",
        "ramen.head()"
      ],
      "execution_count": null,
      "outputs": [
        {
          "output_type": "execute_result",
          "data": {
            "text/html": [
              "<div>\n",
              "<style scoped>\n",
              "    .dataframe tbody tr th:only-of-type {\n",
              "        vertical-align: middle;\n",
              "    }\n",
              "\n",
              "    .dataframe tbody tr th {\n",
              "        vertical-align: top;\n",
              "    }\n",
              "\n",
              "    .dataframe thead th {\n",
              "        text-align: right;\n",
              "    }\n",
              "</style>\n",
              "<table border=\"1\" class=\"dataframe\">\n",
              "  <thead>\n",
              "    <tr style=\"text-align: right;\">\n",
              "      <th></th>\n",
              "      <th>Review #</th>\n",
              "      <th>Brand</th>\n",
              "      <th>Variety</th>\n",
              "      <th>Style</th>\n",
              "      <th>Country</th>\n",
              "      <th>Stars</th>\n",
              "      <th>Top Ten</th>\n",
              "    </tr>\n",
              "  </thead>\n",
              "  <tbody>\n",
              "    <tr>\n",
              "      <th>0</th>\n",
              "      <td>2580</td>\n",
              "      <td>New Touch</td>\n",
              "      <td>T's Restaurant Tantanmen</td>\n",
              "      <td>Cup</td>\n",
              "      <td>Japan</td>\n",
              "      <td>3.75</td>\n",
              "      <td>NaN</td>\n",
              "    </tr>\n",
              "    <tr>\n",
              "      <th>1</th>\n",
              "      <td>2579</td>\n",
              "      <td>Just Way</td>\n",
              "      <td>Noodles Spicy Hot Sesame Spicy Hot Sesame Guan...</td>\n",
              "      <td>Pack</td>\n",
              "      <td>Taiwan</td>\n",
              "      <td>1</td>\n",
              "      <td>NaN</td>\n",
              "    </tr>\n",
              "    <tr>\n",
              "      <th>2</th>\n",
              "      <td>2578</td>\n",
              "      <td>Nissin</td>\n",
              "      <td>Cup Noodles Chicken Vegetable</td>\n",
              "      <td>Cup</td>\n",
              "      <td>USA</td>\n",
              "      <td>2.25</td>\n",
              "      <td>NaN</td>\n",
              "    </tr>\n",
              "    <tr>\n",
              "      <th>3</th>\n",
              "      <td>2577</td>\n",
              "      <td>Wei Lih</td>\n",
              "      <td>GGE Ramen Snack Tomato Flavor</td>\n",
              "      <td>Pack</td>\n",
              "      <td>Taiwan</td>\n",
              "      <td>2.75</td>\n",
              "      <td>NaN</td>\n",
              "    </tr>\n",
              "    <tr>\n",
              "      <th>4</th>\n",
              "      <td>2576</td>\n",
              "      <td>Ching's Secret</td>\n",
              "      <td>Singapore Curry</td>\n",
              "      <td>Pack</td>\n",
              "      <td>India</td>\n",
              "      <td>3.75</td>\n",
              "      <td>NaN</td>\n",
              "    </tr>\n",
              "  </tbody>\n",
              "</table>\n",
              "</div>"
            ],
            "text/plain": [
              "   Review #           Brand  ... Stars Top Ten\n",
              "0      2580       New Touch  ...  3.75     NaN\n",
              "1      2579        Just Way  ...     1     NaN\n",
              "2      2578          Nissin  ...  2.25     NaN\n",
              "3      2577         Wei Lih  ...  2.75     NaN\n",
              "4      2576  Ching's Secret  ...  3.75     NaN\n",
              "\n",
              "[5 rows x 7 columns]"
            ]
          },
          "metadata": {},
          "execution_count": 10
        }
      ]
    },
    {
      "cell_type": "markdown",
      "metadata": {
        "id": "7SfueFgsNdNt"
      },
      "source": [
        "# Problem: \n",
        "Which dataset are you going to use? What questions are you going to ask about this dataset? Make sure that you can answer the question using ML models. What are your predictor variables and target variable?"
      ]
    },
    {
      "cell_type": "markdown",
      "metadata": {
        "id": "yM_lNmrrNw6S"
      },
      "source": [
        "# Data Preparation\n",
        "Explain your data prep. What did you do to get your data in the shape for your experiments? (e.g. creation of dummy variables, filling in missing values, etc). "
      ]
    },
    {
      "cell_type": "code",
      "metadata": {
        "id": "S-L1vVEe90YD"
      },
      "source": [
        "# data prep code "
      ],
      "execution_count": null,
      "outputs": []
    },
    {
      "cell_type": "markdown",
      "metadata": {
        "id": "y3ha10SpN27E"
      },
      "source": [
        "# Metrics\n",
        "Identify which metrics you will be using to test your model and say why they are appropriate."
      ]
    },
    {
      "cell_type": "markdown",
      "metadata": {
        "id": "67v8fsFBN7TR"
      },
      "source": [
        "# Baseline Performance\n",
        "Identify a baseline for your metrics - what would you expect to happen with this particular data if you always guessed the average or if you guessed randomly? What did some of the unsuccessful machine learning algorithms yield?\n",
        "\n",
        "Some helpful links:\n",
        "- [Sklearn Dummy Regressor](https://scikit-learn.org/stable/modules/generated/sklearn.dummy.DummyRegressor.html)"
      ]
    },
    {
      "cell_type": "code",
      "metadata": {
        "id": "mGE56w6bN5_N"
      },
      "source": [
        "# build and test a baseline model here"
      ],
      "execution_count": null,
      "outputs": []
    },
    {
      "cell_type": "markdown",
      "metadata": {
        "id": "bot75U5WOLLT"
      },
      "source": [
        "# Model planning and Execution\n",
        "Identify which learning algorithms you have tried and which important parameters you’ve tuned for each one.\n"
      ]
    },
    {
      "cell_type": "code",
      "metadata": {
        "id": "oTqOhnnGOQOZ"
      },
      "source": [
        "# Execute your plan here (build and test your models to answer your question)"
      ],
      "execution_count": null,
      "outputs": []
    },
    {
      "cell_type": "markdown",
      "metadata": {
        "id": "kMaqpNm4O9Qy"
      },
      "source": [
        "# Results\n",
        "After you conduct your learning experiment, summarize the results you got. Include visualizations (i.e. graphs) where appropriate.  How did you find the best k, n, m or other variables that you needed to tune. "
      ]
    },
    {
      "cell_type": "code",
      "metadata": {
        "id": "5X_7-hMLPB-Z"
      },
      "source": [
        "# Include code to show your results (graphs, etc)"
      ],
      "execution_count": null,
      "outputs": []
    },
    {
      "cell_type": "markdown",
      "metadata": {
        "id": "wAOCA1Q0OWS4"
      },
      "source": [
        "# Bumps in the Road:\n",
        "What challenges did you encounter? How did you overcome these challenges? Did you have to adapt your strategy to account for these challenges? Why or why not?\n"
      ]
    },
    {
      "cell_type": "markdown",
      "metadata": {
        "id": "qBSirz71PG62"
      },
      "source": [
        "# Conclusions\n",
        "What insights/recommendations do you have? What did you find that was interesting? Which model was your best model, which models didn't work well? Why do you think this is? In general, I want a discussion of your experiment, the results, and what they mean."
      ]
    },
    {
      "cell_type": "code",
      "metadata": {
        "id": "OIOYqMZIPOoc"
      },
      "source": [
        ""
      ],
      "execution_count": null,
      "outputs": []
    }
  ]
}