{
  "nbformat": 4,
  "nbformat_minor": 0,
  "metadata": {
    "colab": {
      "name": "Project1_starter_NCAA.ipynb",
      "provenance": [],
      "authorship_tag": "ABX9TyM2hkByHErmzu4dvIcRxHQ7",
      "include_colab_link": true
    },
    "kernelspec": {
      "name": "python3",
      "display_name": "Python 3"
    }
  },
  "cells": [
    {
      "cell_type": "markdown",
      "metadata": {
        "id": "view-in-github",
        "colab_type": "text"
      },
      "source": [
        "<a href=\"https://colab.research.google.com/github/merriekay/Project-1/blob/main/Project1_starter_NCAA.ipynb\" target=\"_parent\"><img src=\"https://colab.research.google.com/assets/colab-badge.svg\" alt=\"Open In Colab\"/></a>"
      ]
    },
    {
      "cell_type": "markdown",
      "metadata": {
        "id": "rVExOJMx8DPj"
      },
      "source": [
        "# Project \\#1: NCAA March Madness Modeling\n",
        "\n",
        "## The Data:\n",
        "- Ken Pomeroy (https://kenpom.com/), \n",
        "  - 'kenpom_2021.csv' has a subset of the data from kenpom.com\n",
        "- FiveThirtyEight: https://projects.fivethirtyeight.com/2021-march-madness-predictions/  \n",
        "  - '538ratingsMen.csv' has FiveThirtyEight's rankings\n",
        "- Massey Ratings: https://www.masseyratings.com/cb/ncaa-d1/ratings \n",
        "- Kaggle Machine Learning Mania 2021: https://www.kaggle.com/c/ncaam-march-mania-2021\n",
        "- You can use external data as well, the Kaggle competition has several other linked datasets you can use. \n",
        "\n",
        "Helpful Articles:\n",
        "- https://fivethirtyeight.com/methodology/how-our-march-madness-predictions-work-2/ "
      ]
    },
    {
      "cell_type": "code",
      "metadata": {
        "colab": {
          "base_uri": "https://localhost:8080/"
        },
        "id": "Sb9-HTNy7_2C",
        "outputId": "49b41b27-9dc5-45ea-9b8d-fee9933141a7"
      },
      "source": [
        "from google.colab import drive\n",
        "import pandas as pd\n",
        "drive.mount('/content/drive')\n",
        "kenpom = pd.read_csv('/content/drive/MyDrive/CS167_S21/CS167_datasets/kenpom_2021.csv')\n",
        "data_538 = pd.read_csv('/content/drive/MyDrive/CS167_S21/CS167_datasets/538ratingsMen.csv')"
      ],
      "execution_count": null,
      "outputs": [
        {
          "output_type": "stream",
          "text": [
            "Mounted at /content/drive\n"
          ],
          "name": "stdout"
        }
      ]
    },
    {
      "cell_type": "code",
      "metadata": {
        "id": "3PoTrrBX8HQt"
      },
      "source": [
        ""
      ],
      "execution_count": null,
      "outputs": []
    }
  ]
}